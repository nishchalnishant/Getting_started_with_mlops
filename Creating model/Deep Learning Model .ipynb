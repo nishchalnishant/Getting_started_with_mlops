{
 "cells": [
  {
   "cell_type": "code",
   "execution_count": 1,
   "source": [
    "#Import libraries \r\n",
    "import numpy as np \r\n",
    "import pandas as pd \r\n",
    "from sklearn.feature_extraction.text import CountVectorizer\r\n",
    "from tensorflow.keras.models import Sequential\r\n",
    "from tensorflow.keras.layers import LSTM,Embedding\r\n",
    "from tensorflow.keras.layers import Dense\r\n",
    "from tensorflow.keras import backend as k\r\n",
    "from tensorflow.keras.preprocessing.text import Tokenizer\r\n",
    "from tensorflow.keras.preprocessing.sequence import pad_sequences\r\n",
    "from sklearn.model_selection import train_test_split\r\n",
    "from keras.utils.np_utils import to_categorical\r\n",
    "import re\r\n",
    "import pickle"
   ],
   "outputs": [
    {
     "output_type": "error",
     "ename": "ModuleNotFoundError",
     "evalue": "No module named 'numpy'",
     "traceback": [
      "\u001b[1;31m---------------------------------------------------------------------------\u001b[0m",
      "\u001b[1;31mModuleNotFoundError\u001b[0m                       Traceback (most recent call last)",
      "\u001b[1;32m<ipython-input-1-daa878240cd0>\u001b[0m in \u001b[0;36m<module>\u001b[1;34m\u001b[0m\n\u001b[0;32m      1\u001b[0m \u001b[1;31m#Import libraries\u001b[0m\u001b[1;33m\u001b[0m\u001b[1;33m\u001b[0m\u001b[1;33m\u001b[0m\u001b[0m\n\u001b[1;32m----> 2\u001b[1;33m \u001b[1;32mimport\u001b[0m \u001b[0mnumpy\u001b[0m \u001b[1;32mas\u001b[0m \u001b[0mnp\u001b[0m\u001b[1;33m\u001b[0m\u001b[1;33m\u001b[0m\u001b[0m\n\u001b[0m\u001b[0;32m      3\u001b[0m \u001b[1;32mimport\u001b[0m \u001b[0mpandas\u001b[0m \u001b[1;32mas\u001b[0m \u001b[0mpd\u001b[0m\u001b[1;33m\u001b[0m\u001b[1;33m\u001b[0m\u001b[0m\n\u001b[0;32m      4\u001b[0m \u001b[1;32mfrom\u001b[0m \u001b[0msklearn\u001b[0m\u001b[1;33m.\u001b[0m\u001b[0mfeature_extraction\u001b[0m\u001b[1;33m.\u001b[0m\u001b[0mtext\u001b[0m \u001b[1;32mimport\u001b[0m \u001b[0mCountVectorizer\u001b[0m\u001b[1;33m\u001b[0m\u001b[1;33m\u001b[0m\u001b[0m\n\u001b[0;32m      5\u001b[0m \u001b[1;32mfrom\u001b[0m \u001b[0mtensorflow\u001b[0m\u001b[1;33m.\u001b[0m\u001b[0mkeras\u001b[0m\u001b[1;33m.\u001b[0m\u001b[0mmodels\u001b[0m \u001b[1;32mimport\u001b[0m \u001b[0mSequential\u001b[0m\u001b[1;33m\u001b[0m\u001b[1;33m\u001b[0m\u001b[0m\n",
      "\u001b[1;31mModuleNotFoundError\u001b[0m: No module named 'numpy'"
     ]
    }
   ],
   "metadata": {}
  },
  {
   "cell_type": "code",
   "execution_count": 2,
   "source": [
    "#Load the dataset \r\n",
    "df = pd.read_csv('reviews_dataset.tsv.zip',header=0, delimiter=\"\\t\", quoting=3)\r\n",
    "\r\n",
    "# Keeping only the neccessary columns\r\n",
    "df = df[['review','sentiment']]"
   ],
   "outputs": [],
   "metadata": {}
  },
  {
   "cell_type": "code",
   "execution_count": 3,
   "source": [
    "#shape of the data \r\n",
    "df.shape"
   ],
   "outputs": [
    {
     "output_type": "execute_result",
     "data": {
      "text/plain": [
       "(25000, 2)"
      ]
     },
     "metadata": {},
     "execution_count": 3
    }
   ],
   "metadata": {}
  },
  {
   "cell_type": "code",
   "execution_count": 4,
   "source": [
    "df.sentiment.value_counts()"
   ],
   "outputs": [
    {
     "output_type": "execute_result",
     "data": {
      "text/plain": [
       "1    12500\n",
       "0    12500\n",
       "Name: sentiment, dtype: int64"
      ]
     },
     "metadata": {},
     "execution_count": 4
    }
   ],
   "metadata": {}
  },
  {
   "cell_type": "code",
   "execution_count": 5,
   "source": [
    "df['review'] = df['review'].apply(lambda x: x.lower())\r\n",
    "df['review'] = df['review'].apply((lambda x: re.sub('[^a-zA-z0-9\\s]','',x)))\r\n",
    "\r\n"
   ],
   "outputs": [],
   "metadata": {}
  },
  {
   "cell_type": "code",
   "execution_count": 6,
   "source": [
    "max_features = 1000\r\n",
    "tokenizer = Tokenizer(num_words=max_features, split=' ')\r\n",
    "tokenizer.fit_on_texts(df['review'].values)\r\n",
    "X = tokenizer.texts_to_sequences(df['review'].values)\r\n",
    "X = pad_sequences(X)"
   ],
   "outputs": [],
   "metadata": {}
  },
  {
   "cell_type": "code",
   "execution_count": 7,
   "source": [
    "X.shape"
   ],
   "outputs": [
    {
     "output_type": "execute_result",
     "data": {
      "text/plain": [
       "(25000, 1473)"
      ]
     },
     "metadata": {},
     "execution_count": 7
    }
   ],
   "metadata": {}
  },
  {
   "cell_type": "code",
   "execution_count": 8,
   "source": [
    "embed_dim = 50\r\n",
    "model = Sequential()\r\n",
    "model.add(Embedding(max_features, embed_dim,input_length = X.shape[1]))\r\n",
    "model.add(LSTM(10))\r\n",
    "model.add(Dense(2,activation='softmax'))\r\n",
    "model.compile(loss = 'categorical_crossentropy', optimizer='adam',metrics = ['accuracy'])\r\n",
    "print(model.summary())"
   ],
   "outputs": [
    {
     "output_type": "stream",
     "name": "stdout",
     "text": [
      "Model: \"sequential\"\n",
      "_________________________________________________________________\n",
      "Layer (type)                 Output Shape              Param #   \n",
      "=================================================================\n",
      "embedding (Embedding)        (None, 1473, 50)          50000     \n",
      "_________________________________________________________________\n",
      "lstm (LSTM)                  (None, 10)                2440      \n",
      "_________________________________________________________________\n",
      "dense (Dense)                (None, 2)                 22        \n",
      "=================================================================\n",
      "Total params: 52,462\n",
      "Trainable params: 52,462\n",
      "Non-trainable params: 0\n",
      "_________________________________________________________________\n",
      "None\n"
     ]
    }
   ],
   "metadata": {}
  },
  {
   "cell_type": "code",
   "execution_count": 9,
   "source": [
    "y = pd.get_dummies(df['sentiment']).values\r\n",
    "X_train, X_test, y_train, y_test = train_test_split(X,y, test_size = 0.25, random_state = 99)\r\n",
    "print(X_train.shape,y_train.shape)\r\n",
    "print(X_test.shape,y_test.shape)"
   ],
   "outputs": [
    {
     "output_type": "stream",
     "name": "stdout",
     "text": [
      "(18750, 1473) (18750, 2)\n",
      "(6250, 1473) (6250, 2)\n"
     ]
    }
   ],
   "metadata": {}
  },
  {
   "cell_type": "code",
   "execution_count": 10,
   "source": [
    "model.fit(X_train, y_train, epochs = 5, verbose = 1)"
   ],
   "outputs": [
    {
     "output_type": "stream",
     "name": "stdout",
     "text": [
      "Train on 18750 samples\n",
      "Epoch 1/5\n",
      "18750/18750 [==============================] - 263s 14ms/sample - loss: 0.4837 - accuracy: 0.7610\n",
      "Epoch 2/5\n",
      "18750/18750 [==============================] - 278s 15ms/sample - loss: 0.3485 - accuracy: 0.8545\n",
      "Epoch 3/5\n",
      "18750/18750 [==============================] - 273s 15ms/sample - loss: 0.3279 - accuracy: 0.8623\n",
      "Epoch 4/5\n",
      "18750/18750 [==============================] - 274s 15ms/sample - loss: 0.3077 - accuracy: 0.8709\n",
      "Epoch 5/5\n",
      "18750/18750 [==============================] - 270s 14ms/sample - loss: 0.2922 - accuracy: 0.8765\n"
     ]
    },
    {
     "output_type": "execute_result",
     "data": {
      "text/plain": [
       "<tensorflow.python.keras.callbacks.History at 0x14ec8f350>"
      ]
     },
     "metadata": {},
     "execution_count": 10
    }
   ],
   "metadata": {}
  },
  {
   "cell_type": "code",
   "execution_count": 16,
   "source": [
    "# save tokenizer for preprocessing\r\n",
    "with open('tokenizer.pickle', 'wb') as tk:\r\n",
    "    pickle.dump(tokenizer, tk, protocol=pickle.HIGHEST_PROTOCOL)\r\n",
    "# serialize model to JSON for Flask App\r\n",
    "model_json = model.to_json()\r\n",
    "with open(\"model.json\", \"w\") as js:\r\n",
    "    js.write(model_json)\r\n",
    "# serialize weights to HDF5\r\n",
    "model.save_weights(\"model.h5\")"
   ],
   "outputs": [],
   "metadata": {}
  },
  {
   "cell_type": "code",
   "execution_count": 15,
   "source": [
    "test = ['Movie was good but awful']\r\n",
    "#vectorizing the tweet by the pre-fitted tokenizer instance\r\n",
    "test = tokenizer.texts_to_sequences(test)\r\n",
    "#padding the tweet to have exactly the same shape as `embedding_2` input\r\n",
    "test = pad_sequences(test, maxlen=X.shape[1], dtype='int32', value=0)\r\n",
    "print(test.shape)\r\n",
    "sentiment = model.predict(test)[0]\r\n",
    "if(np.argmax(sentiment) == 0):\r\n",
    "    print(\"negative\")\r\n",
    "elif (np.argmax(sentiment) == 1):\r\n",
    "    print(\"positive\")"
   ],
   "outputs": [
    {
     "output_type": "stream",
     "name": "stdout",
     "text": [
      "(1, 1473)\n",
      "negative\n"
     ]
    }
   ],
   "metadata": {}
  },
  {
   "cell_type": "code",
   "execution_count": null,
   "source": [],
   "outputs": [],
   "metadata": {}
  }
 ],
 "metadata": {
  "kernelspec": {
   "name": "python3",
   "display_name": "Python 3.9.6 64-bit ('basic': conda)"
  },
  "language_info": {
   "codemirror_mode": {
    "name": "ipython",
    "version": 3
   },
   "file_extension": ".py",
   "mimetype": "text/x-python",
   "name": "python",
   "nbconvert_exporter": "python",
   "pygments_lexer": "ipython3",
   "version": "3.9.6"
  },
  "interpreter": {
   "hash": "6cde8dc4325d7745d510da6dc54abd615363ef0d50cc4a037e5fb06521a4cd24"
  }
 },
 "nbformat": 4,
 "nbformat_minor": 2
}